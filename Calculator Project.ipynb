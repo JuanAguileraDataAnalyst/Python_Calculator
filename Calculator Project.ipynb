{
 "cells": [
  {
   "cell_type": "markdown",
   "id": "8d2325f8-5220-4466-8826-2e380dec840c",
   "metadata": {},
   "source": [
    "# Calculator"
   ]
  },
  {
   "cell_type": "code",
   "execution_count": 13,
   "id": "09b8cb6f-9ea3-4b2a-ba13-c4d90a3ab98e",
   "metadata": {},
   "outputs": [],
   "source": [
    "def add(x,y):\n",
    "    return x + y\n",
    "\n",
    "def substract(x,y):\n",
    "    return x - y\n",
    "\n",
    "def multiply(x,y):\n",
    "    return x * y\n",
    "\n",
    "def divide(x,y):\n",
    "    return x / y"
   ]
  },
  {
   "cell_type": "code",
   "execution_count": 25,
   "id": "150e02b5-8ec9-46ec-bf4b-33b43548d57c",
   "metadata": {},
   "outputs": [
    {
     "name": "stdin",
     "output_type": "stream",
     "text": [
      "Enter Choice: (A,S,M,D):  a\n",
      "Enter first number:  5\n",
      "Enter seconf number:  5\n"
     ]
    }
   ],
   "source": [
    "choice = input('Enter Choice: (A,S,M,D): ')\n",
    "\n",
    "num1 = float(input('Enter first number: '))\n",
    "\n",
    "num2 = float(input('Enter seconf number: '))"
   ]
  },
  {
   "cell_type": "code",
   "execution_count": 22,
   "id": "d1012519-5566-4b84-b9f2-318af7fd5eeb",
   "metadata": {},
   "outputs": [
    {
     "name": "stdout",
     "output_type": "stream",
     "text": [
      "Enter 'A' for Addition.\n",
      "Enter 'S' for Subtraction.\n",
      "Enter 'M' for Multication.\n",
      "Enter 'D' for Division.\n"
     ]
    },
    {
     "name": "stdin",
     "output_type": "stream",
     "text": [
      "Enter Choice (A,S,M,D):  a\n",
      "Enter first number:  5\n",
      "Enter seconf number:  5\n"
     ]
    },
    {
     "name": "stdout",
     "output_type": "stream",
     "text": [
      "Result: 5.0 + 5.0 = 10.0\n"
     ]
    }
   ],
   "source": [
    "print(\"Enter 'A' for Addition.\")\n",
    "print(\"Enter 'S' for Subtraction.\")\n",
    "print(\"Enter 'M' for Multication.\")\n",
    "print(\"Enter 'D' for Division.\")\n",
    "      \n",
    "choice = input('Enter Choice (A,S,M,D): ')\n",
    "\n",
    "if choice.upper() in ('A','ADD','ADDITION','S','SUBTRACT','SUBTRACTION','M','MULTIPLICATION','D','DIVIDE'):\n",
    "    num1 = float(input('Enter first number: '))\n",
    "    num2 = float(input('Enter seconf number: '))\n",
    "\n",
    "    if choice.upper() in ('A','ADD','ADDITION'):\n",
    "        print('Result:',num1, '+',num2, '=', add(num1,num2))\n",
    "    \n",
    "    elif choice.upper() in ('S','SUBTRACT','SUBTRACTION'):\n",
    "        print('Result:',num1, '-',num2, '=',substract(num1,num2))\n",
    "    \n",
    "    elif choice.upper() in ('M','MULTIPLICATION'):\n",
    "        print('Result:',num1, '*',num2, '=',multiply(num1,num2))\n",
    "    \n",
    "    elif choice.upper() in ('D','DIVIDE'):\n",
    "        print('Result:',num1, '/',num2, '=',divide(num1,num2))\n",
    "    \n",
    "    else:\n",
    "        print(\"Plese input a correct choice.\")\n",
    "    \n",
    "\n",
    "    "
   ]
  },
  {
   "cell_type": "code",
   "execution_count": 29,
   "id": "238e452f-f9bd-4796-b22f-9764d81aff9b",
   "metadata": {},
   "outputs": [
    {
     "name": "stdout",
     "output_type": "stream",
     "text": [
      "Enter 'A' for Addition.\n",
      "Enter 'S' for Subtraction.\n",
      "Enter 'M' for Multication.\n",
      "Enter 'D' for Division.\n"
     ]
    },
    {
     "name": "stdin",
     "output_type": "stream",
     "text": [
      "Enter Choice (A,S,M,D):  a\n",
      "Enter first number:  5\n",
      "Enter seconf number:  5\n"
     ]
    },
    {
     "name": "stdout",
     "output_type": "stream",
     "text": [
      "Result: 5.0 + 5.0 = 10.0\n"
     ]
    },
    {
     "name": "stdin",
     "output_type": "stream",
     "text": [
      "Want to do another calculation? (Yes/no?):  yes\n",
      "Enter Choice (A,S,M,D):  m\n",
      "Enter first number:  5\n",
      "Enter seconf number:  41\n"
     ]
    },
    {
     "name": "stdout",
     "output_type": "stream",
     "text": [
      "Result: 5.0 * 41.0 = 205.0\n"
     ]
    },
    {
     "name": "stdin",
     "output_type": "stream",
     "text": [
      "Want to do another calculation? (Yes/no?):  no\n"
     ]
    }
   ],
   "source": [
    "print(\"Enter 'A' for Addition.\")\n",
    "print(\"Enter 'S' for Subtraction.\")\n",
    "print(\"Enter 'M' for Multication.\")\n",
    "print(\"Enter 'D' for Division.\")\n",
    "      \n",
    "while True:\n",
    "    choice = input(\"Enter Choice (A,S,M,D): \")\n",
    "\n",
    "    if choice.upper() in ('A','ADD','ADDITION','S','SUBTRACT','SUBTRACTION','M','MULTIPLICATION','D','DIVIDE'):\n",
    "        num1 = float(input('Enter first number: '))\n",
    "        num2 = float(input('Enter seconf number: '))\n",
    "    \n",
    "        if choice.upper() in ('A','ADD','ADDITION'):\n",
    "            print('Result:',num1, '+',num2, '=', add(num1,num2))\n",
    "        \n",
    "        elif choice.upper() in ('S','SUBTRACT','SUBTRACTION'):\n",
    "            print('Result:',num1, '-',num2, '=',substract(num1,num2))\n",
    "        \n",
    "        elif choice.upper() in ('M','MULTIPLICATION'):\n",
    "            print('Result:',num1, '*',num2, '=',multiply(num1,num2))\n",
    "        \n",
    "        elif choice.upper() in ('D','DIVIDE'):\n",
    "            print('Result:',num1, '/',num2, '=',divide(num1,num2))\n",
    "        \n",
    "    else:\n",
    "        print(\"Plese input a correct choice.\")\n",
    "    \n",
    "    next_calculation = input(\"Want to do another calculation? (Yes/no?): \")\n",
    "    if next_calculation.lower() in ('no','n','nope'):\n",
    "        break\n",
    "    "
   ]
  },
  {
   "cell_type": "code",
   "execution_count": null,
   "id": "264c5dc9-9710-48f3-8229-3ca5aef86d1d",
   "metadata": {},
   "outputs": [],
   "source": []
  },
  {
   "cell_type": "code",
   "execution_count": null,
   "id": "656d0a70-da3e-46eb-9e0a-5679d9193010",
   "metadata": {},
   "outputs": [],
   "source": []
  },
  {
   "cell_type": "code",
   "execution_count": null,
   "id": "ca1adc38-d55c-4c0b-9a84-290e19c20946",
   "metadata": {},
   "outputs": [],
   "source": []
  },
  {
   "cell_type": "code",
   "execution_count": null,
   "id": "845f9417-cef9-419a-b75c-b4421e4f06da",
   "metadata": {},
   "outputs": [],
   "source": []
  },
  {
   "cell_type": "code",
   "execution_count": null,
   "id": "a613eede-93f0-465c-b6b6-ed04a74aac8b",
   "metadata": {},
   "outputs": [],
   "source": []
  },
  {
   "cell_type": "code",
   "execution_count": null,
   "id": "bead685c-c2e3-4cb6-964a-4a64ab6cbe24",
   "metadata": {},
   "outputs": [],
   "source": []
  },
  {
   "cell_type": "code",
   "execution_count": null,
   "id": "f61ac0d5-b176-473d-a5fa-3f4d68f963e5",
   "metadata": {},
   "outputs": [],
   "source": []
  }
 ],
 "metadata": {
  "kernelspec": {
   "display_name": "Python 3 (ipykernel)",
   "language": "python",
   "name": "python3"
  },
  "language_info": {
   "codemirror_mode": {
    "name": "ipython",
    "version": 3
   },
   "file_extension": ".py",
   "mimetype": "text/x-python",
   "name": "python",
   "nbconvert_exporter": "python",
   "pygments_lexer": "ipython3",
   "version": "3.11.7"
  }
 },
 "nbformat": 4,
 "nbformat_minor": 5
}
